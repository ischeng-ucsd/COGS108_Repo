{
  "nbformat": 4,
  "nbformat_minor": 0,
  "metadata": {
    "colab": {
      "name": "Copy of emotion-ucsd.ipynb",
      "provenance": [],
      "collapsed_sections": [],
      "include_colab_link": true
    },
    "kernelspec": {
      "name": "python3",
      "display_name": "Python 3"
    },
    "accelerator": "GPU"
  },
  "cells": [
    {
      "cell_type": "markdown",
      "metadata": {
        "id": "view-in-github",
        "colab_type": "text"
      },
      "source": [
        "<a href=\"https://colab.research.google.com/github/ischeng-ucsd/COGS108_Repo/blob/master/Copy_of_emotion_ucsd.ipynb\" target=\"_parent\"><img src=\"https://colab.research.google.com/assets/colab-badge.svg\" alt=\"Open In Colab\"/></a>"
      ]
    },
    {
      "cell_type": "markdown",
      "metadata": {
        "id": "83pM76LxfXP8",
        "colab_type": "text"
      },
      "source": [
        "# Training an emotion classifier with Keras\n",
        "\n",
        "In this tutorial we'll train an emotion classifier and deploy it to a tensorflow js frontend.  The first step is setting up the environment.\n",
        "\n",
        "This tutorial uses [W&B](https://wandb.com).  Before you run this notebook, [signup](https://app.wandb.ai/signup) or [login](https://app.wandb.ai/login) to your account."
      ]
    },
    {
      "cell_type": "code",
      "metadata": {
        "id": "716z63DMfWoq",
        "colab_type": "code",
        "outputId": "ccdcf768-1309-45ad-9dd1-8f1b7d5526f6",
        "colab": {
          "base_uri": "https://localhost:8080/",
          "height": 242
        }
      },
      "source": [
        "# Install wandb\n",
        "%pip install -qq wandb"
      ],
      "execution_count": 0,
      "outputs": [
        {
          "output_type": "stream",
          "text": [
            "\u001b[K     |████████████████████████████████| 1.3MB 8.4MB/s \n",
            "\u001b[K     |████████████████████████████████| 92kB 13.9MB/s \n",
            "\u001b[K     |████████████████████████████████| 102kB 15.4MB/s \n",
            "\u001b[K     |████████████████████████████████| 92kB 13.7MB/s \n",
            "\u001b[K     |████████████████████████████████| 460kB 55.9MB/s \n",
            "\u001b[K     |████████████████████████████████| 256kB 59.8MB/s \n",
            "\u001b[K     |████████████████████████████████| 71kB 12.0MB/s \n",
            "\u001b[K     |████████████████████████████████| 184kB 79.9MB/s \n",
            "\u001b[?25h  Building wheel for gql (setup.py) ... \u001b[?25l\u001b[?25hdone\n",
            "  Building wheel for subprocess32 (setup.py) ... \u001b[?25l\u001b[?25hdone\n",
            "  Building wheel for watchdog (setup.py) ... \u001b[?25l\u001b[?25hdone\n",
            "  Building wheel for shortuuid (setup.py) ... \u001b[?25l\u001b[?25hdone\n",
            "  Building wheel for pathtools (setup.py) ... \u001b[?25l\u001b[?25hdone\n"
          ],
          "name": "stdout"
        }
      ]
    },
    {
      "cell_type": "code",
      "metadata": {
        "id": "UdQHTvMTfs1c",
        "colab_type": "code",
        "colab": {}
      },
      "source": [
        "#import libraries\n",
        "import warnings\n",
        "warnings.filterwarnings('ignore')\n",
        "import pandas as pd\n",
        "import numpy as np\n",
        "import cv2\n",
        "import subprocess\n",
        "import os\n",
        "import time\n",
        "import wandb"
      ],
      "execution_count": 0,
      "outputs": []
    },
    {
      "cell_type": "markdown",
      "metadata": {
        "id": "m6vgqwva0PKy",
        "colab_type": "text"
      },
      "source": [
        "## Load the fer2013 grayscale face emotion dataset\n",
        "\n",
        "https://www.kaggle.com/c/challenges-in-representation-learning-facial-expression-recognition-challenge/data\n",
        "\n",
        "We manually do an 80/20 train-test split and cache the data to disk."
      ]
    },
    {
      "cell_type": "code",
      "metadata": {
        "id": "ujDGNN-FgNBa",
        "colab_type": "code",
        "colab": {}
      },
      "source": [
        "def load_fer2013(force=False):\n",
        "    \"\"\"Load the emotion dataset\"\"\"\n",
        "    if force or not os.path.exists(\"fer2013\"):\n",
        "        print(\"Downloading the face emotion dataset...\")\n",
        "        subprocess.check_output(\n",
        "            \"curl -SL https://www.dropbox.com/s/opuvvdv3uligypx/fer2013.tar | tar xz\", shell=True)\n",
        "    print(\"Loading dataset...\")\n",
        "    if not os.path.exists('face_cache.npz'):\n",
        "        data = pd.read_csv(\"fer2013/fer2013.csv\")\n",
        "        pixels = data['pixels'].tolist()\n",
        "        width, height = 48, 48\n",
        "        faces = []\n",
        "        for pixel_sequence in pixels:\n",
        "            pixs = pixel_sequence.split(' ')\n",
        "            try:\n",
        "                face = np.asarray(pixel_sequence.split(\n",
        "                    ' '), dtype=np.uint8).reshape(width, height)\n",
        "                face = cv2.resize(face.astype('uint8'), (width, height))\n",
        "                faces.append(face.astype('float32'))\n",
        "            except ValueError:\n",
        "              print(\"Unable to load face.\")\n",
        "\n",
        "        faces = np.asarray(faces)\n",
        "        faces = np.expand_dims(faces, -1)\n",
        "        emotions = pd.get_dummies(data['emotion']).as_matrix()\n",
        "\n",
        "        val_faces = faces[int(len(faces) * 0.8):]\n",
        "        val_emotions = emotions[int(len(faces) * 0.8):]\n",
        "        train_faces = faces[:int(len(faces) * 0.8)]\n",
        "        train_emotions = emotions[:int(len(faces) * 0.8)]\n",
        "        np.savez('face_cache.npz', train_faces=train_faces, train_emotions=train_emotions,\n",
        "                 val_faces=val_faces, val_emotions=val_emotions)\n",
        "    cached = np.load('face_cache.npz')\n",
        "\n",
        "    return cached['train_faces'], cached['train_emotions'], cached['val_faces'], cached['val_emotions']"
      ],
      "execution_count": 0,
      "outputs": []
    },
    {
      "cell_type": "markdown",
      "metadata": {
        "id": "ihedxZW-364Y",
        "colab_type": "text"
      },
      "source": [
        "# Deep Learning\n",
        "\n",
        "We define a train() function with default inputs.  In the second cell we manually call training and convert the keras model into a tensorflow js model.  \n",
        "\n",
        "The inputs recorded in default_config will be stored in W&B so we can compare see which parameters worked and which ones didn't."
      ]
    },
    {
      "cell_type": "code",
      "metadata": {
        "id": "u-E_wuM4gR9e",
        "colab_type": "code",
        "colab": {}
      },
      "source": [
        "# Set default hyperparameters\n",
        "default_config = {\n",
        "    \"learning_rate\": 0.001,\n",
        "    \"batch_size\": 32,\n",
        "    \"num_epochs\": 10,\n",
        "    \"dropout\": 0.2,\n",
        "    \"class\": \"ucsd\"\n",
        "}\n",
        "def train():\n",
        "  \"\"\"Train an emotion classifier using wandb.config as input\"\"\"\n",
        "  import tensorflow as tf\n",
        "  import wandb\n",
        "  tf.keras.backend.clear_session()\n",
        "  # Inititialize W&B with default config options\n",
        "  wandb.init(entity=\"wandb\", project=\"emotion\", config=default_config)\n",
        "  config = wandb.config\n",
        "  print(dict(config))\n",
        "  \n",
        "  # Load dataset\n",
        "  input_shape = (48, 48, 1)\n",
        "  train_faces, train_emotions, val_faces, val_emotions = load_fer2013()\n",
        "  num_samples, num_classes = train_emotions.shape\n",
        "  \n",
        "  # Normalize data\n",
        "  train_faces /= 255.\n",
        "  val_faces /= 255.\n",
        "  \n",
        "  # Define the model\n",
        "  optimizer = tf.keras.optimizers.Adam(learning_rate=config.learning_rate)\n",
        "  #model = tf.keras.applications.mobilenet_v2.MobileNetV2(input_shape=input_shape, include_top=False)\n",
        "\n",
        "  model = tf.keras.Sequential()\n",
        "  model.add(tf.keras.layers.Conv2D(128, (3,3), activation=\"relu\", input_shape=input_shape))\n",
        "  model.add(tf.keras.layers.MaxPooling2D())\n",
        "  model.add(tf.keras.layers.Conv2D(64, (3,3), activation=\"relu\"))\n",
        "  model.add(tf.keras.layers.Conv2D(64, (3,3), activation=\"relu\"))\n",
        "  model.add(tf.keras.layers.MaxPooling2D())\n",
        "  model.add(tf.keras.layers.Flatten())\n",
        "  model.add(tf.keras.layers.Dropout(0.4))\n",
        "  model.add(tf.keras.layers.Dense(128, activation=\"relu\"))\n",
        "  model.add(tf.keras.layers.Dropout(0.4))\n",
        "  model.add(tf.keras.layers.Dense(num_classes, activation=\"softmax\"))\n",
        "  model.compile(optimizer=optimizer, loss='categorical_crossentropy',\n",
        "                metrics=['accuracy'])\n",
        "\n",
        "  # Save extra hyperparameter\n",
        "  config.total_params = model.count_params()\n",
        "    \n",
        "  # Train the model\n",
        "  model.fit(train_faces, train_emotions, batch_size=config.batch_size,\n",
        "            epochs=config.num_epochs, verbose=1, callbacks=[\n",
        "                wandb.keras.WandbCallback(data_type=\"image\", labels=[\n",
        "                              \"Angry\", \"Disgust\", \"Fear\", \"Happy\", \"Sad\", \"Surprise\", \"Neutral\"])\n",
        "            ], validation_data=(val_faces, val_emotions))\n",
        "\n",
        "  # Save the model locally\n",
        "  model.save(\"emotion.h5\")"
      ],
      "execution_count": 0,
      "outputs": []
    },
    {
      "cell_type": "code",
      "metadata": {
        "id": "Ndvq2qYv66Ot",
        "colab_type": "code",
        "outputId": "55fb1921-83e9-4e37-8f97-80b885e40c32",
        "colab": {
          "base_uri": "https://localhost:8080/",
          "height": 483
        }
      },
      "source": [
        "# Train the model\n",
        "train()"
      ],
      "execution_count": 0,
      "outputs": [
        {
          "output_type": "display_data",
          "data": {
            "text/html": [
              "\n",
              "                Logging results to <a href=\"https://wandb.com\" target=\"_blank\">Weights & Biases</a> <a href=\"https://docs.wandb.com/integrations/jupyter.html\" target=\"_blank\">(Documentation)</a>.<br/>\n",
              "                Project page: <a href=\"https://app.wandb.ai/wandb/emotion\" target=\"_blank\">https://app.wandb.ai/wandb/emotion</a><br/>\n",
              "                Run page: <a href=\"https://app.wandb.ai/wandb/emotion/runs/1stjqavj\" target=\"_blank\">https://app.wandb.ai/wandb/emotion/runs/1stjqavj</a><br/>\n",
              "            "
            ],
            "text/plain": [
              "<IPython.core.display.HTML object>"
            ]
          },
          "metadata": {
            "tags": []
          }
        },
        {
          "output_type": "stream",
          "text": [
            "{'learning_rate': 0.001, 'batch_size': 32, 'num_epochs': 10, 'dropout': 0.2, 'class': 'ucsd'}\n",
            "Loading dataset...\n",
            "Train on 28709 samples, validate on 7178 samples\n",
            "Epoch 1/10\n",
            "28224/28709 [============================>.] - ETA: 0s - loss: 1.6042 - acc: 0.3732"
          ],
          "name": "stdout"
        },
        {
          "output_type": "error",
          "ename": "KeyboardInterrupt",
          "evalue": "ignored",
          "traceback": [
            "\u001b[0;31m---------------------------------------------------------------------------\u001b[0m",
            "\u001b[0;31mKeyboardInterrupt\u001b[0m                         Traceback (most recent call last)",
            "\u001b[0;32m<ipython-input-8-2da0ffaf5447>\u001b[0m in \u001b[0;36m<module>\u001b[0;34m()\u001b[0m\n\u001b[0;32m----> 1\u001b[0;31m \u001b[0mtrain\u001b[0m\u001b[0;34m(\u001b[0m\u001b[0;34m)\u001b[0m\u001b[0;34m\u001b[0m\u001b[0;34m\u001b[0m\u001b[0m\n\u001b[0m",
            "\u001b[0;32m<ipython-input-6-d64c0affe2dd>\u001b[0m in \u001b[0;36mtrain\u001b[0;34m()\u001b[0m\n\u001b[1;32m     49\u001b[0m                 wandb.keras.WandbCallback(data_type=\"image\", labels=[\n\u001b[1;32m     50\u001b[0m                               \"Angry\", \"Disgust\", \"Fear\", \"Happy\", \"Sad\", \"Surprise\", \"Neutral\"])\n\u001b[0;32m---> 51\u001b[0;31m             ], validation_data=(val_faces, val_emotions))\n\u001b[0m\u001b[1;32m     52\u001b[0m \u001b[0;34m\u001b[0m\u001b[0m\n\u001b[1;32m     53\u001b[0m   \u001b[0;31m# Save the model locally\u001b[0m\u001b[0;34m\u001b[0m\u001b[0;34m\u001b[0m\u001b[0;34m\u001b[0m\u001b[0m\n",
            "\u001b[0;32m/usr/local/lib/python3.6/dist-packages/tensorflow_core/python/keras/engine/training.py\u001b[0m in \u001b[0;36mfit\u001b[0;34m(self, x, y, batch_size, epochs, verbose, callbacks, validation_split, validation_data, shuffle, class_weight, sample_weight, initial_epoch, steps_per_epoch, validation_steps, validation_freq, max_queue_size, workers, use_multiprocessing, **kwargs)\u001b[0m\n\u001b[1;32m    725\u001b[0m         \u001b[0mmax_queue_size\u001b[0m\u001b[0;34m=\u001b[0m\u001b[0mmax_queue_size\u001b[0m\u001b[0;34m,\u001b[0m\u001b[0;34m\u001b[0m\u001b[0;34m\u001b[0m\u001b[0m\n\u001b[1;32m    726\u001b[0m         \u001b[0mworkers\u001b[0m\u001b[0;34m=\u001b[0m\u001b[0mworkers\u001b[0m\u001b[0;34m,\u001b[0m\u001b[0;34m\u001b[0m\u001b[0;34m\u001b[0m\u001b[0m\n\u001b[0;32m--> 727\u001b[0;31m         use_multiprocessing=use_multiprocessing)\n\u001b[0m\u001b[1;32m    728\u001b[0m \u001b[0;34m\u001b[0m\u001b[0m\n\u001b[1;32m    729\u001b[0m   def evaluate(self,\n",
            "\u001b[0;32m/usr/local/lib/python3.6/dist-packages/tensorflow_core/python/keras/engine/training_arrays.py\u001b[0m in \u001b[0;36mfit\u001b[0;34m(self, model, x, y, batch_size, epochs, verbose, callbacks, validation_split, validation_data, shuffle, class_weight, sample_weight, initial_epoch, steps_per_epoch, validation_steps, validation_freq, **kwargs)\u001b[0m\n\u001b[1;32m    673\u001b[0m         \u001b[0mvalidation_steps\u001b[0m\u001b[0;34m=\u001b[0m\u001b[0mvalidation_steps\u001b[0m\u001b[0;34m,\u001b[0m\u001b[0;34m\u001b[0m\u001b[0;34m\u001b[0m\u001b[0m\n\u001b[1;32m    674\u001b[0m         \u001b[0mvalidation_freq\u001b[0m\u001b[0;34m=\u001b[0m\u001b[0mvalidation_freq\u001b[0m\u001b[0;34m,\u001b[0m\u001b[0;34m\u001b[0m\u001b[0;34m\u001b[0m\u001b[0m\n\u001b[0;32m--> 675\u001b[0;31m         steps_name='steps_per_epoch')\n\u001b[0m\u001b[1;32m    676\u001b[0m \u001b[0;34m\u001b[0m\u001b[0m\n\u001b[1;32m    677\u001b[0m   def evaluate(self,\n",
            "\u001b[0;32m/usr/local/lib/python3.6/dist-packages/wandb/keras/__init__.py\u001b[0m in \u001b[0;36mnew_arrays\u001b[0;34m(*args, **kwargs)\u001b[0m\n\u001b[1;32m     94\u001b[0m             \u001b[0;32mfor\u001b[0m \u001b[0mcbk\u001b[0m \u001b[0;32min\u001b[0m \u001b[0mcbks\u001b[0m\u001b[0;34m:\u001b[0m\u001b[0;34m\u001b[0m\u001b[0;34m\u001b[0m\u001b[0m\n\u001b[1;32m     95\u001b[0m                 \u001b[0mset_wandb_attrs\u001b[0m\u001b[0;34m(\u001b[0m\u001b[0mcbk\u001b[0m\u001b[0;34m,\u001b[0m \u001b[0;34m(\u001b[0m\u001b[0mval_inputs\u001b[0m\u001b[0;34m[\u001b[0m\u001b[0;36m0\u001b[0m\u001b[0;34m]\u001b[0m\u001b[0;34m,\u001b[0m \u001b[0mval_targets\u001b[0m\u001b[0;34m[\u001b[0m\u001b[0;36m0\u001b[0m\u001b[0;34m]\u001b[0m\u001b[0;34m)\u001b[0m\u001b[0;34m)\u001b[0m\u001b[0;34m\u001b[0m\u001b[0;34m\u001b[0m\u001b[0m\n\u001b[0;32m---> 96\u001b[0;31m         \u001b[0;32mreturn\u001b[0m \u001b[0mold_arrays\u001b[0m\u001b[0;34m(\u001b[0m\u001b[0;34m*\u001b[0m\u001b[0margs\u001b[0m\u001b[0;34m,\u001b[0m \u001b[0;34m**\u001b[0m\u001b[0mkwargs\u001b[0m\u001b[0;34m)\u001b[0m\u001b[0;34m\u001b[0m\u001b[0;34m\u001b[0m\u001b[0m\n\u001b[0m\u001b[1;32m     97\u001b[0m \u001b[0;34m\u001b[0m\u001b[0m\n\u001b[1;32m     98\u001b[0m     \u001b[0;32mdef\u001b[0m \u001b[0mnew_generator\u001b[0m\u001b[0;34m(\u001b[0m\u001b[0;34m*\u001b[0m\u001b[0margs\u001b[0m\u001b[0;34m,\u001b[0m \u001b[0;34m**\u001b[0m\u001b[0mkwargs\u001b[0m\u001b[0;34m)\u001b[0m\u001b[0;34m:\u001b[0m\u001b[0;34m\u001b[0m\u001b[0;34m\u001b[0m\u001b[0m\n",
            "\u001b[0;32m/usr/local/lib/python3.6/dist-packages/tensorflow_core/python/keras/engine/training_arrays.py\u001b[0m in \u001b[0;36mmodel_iteration\u001b[0;34m(model, inputs, targets, sample_weights, batch_size, epochs, verbose, callbacks, val_inputs, val_targets, val_sample_weights, shuffle, initial_epoch, steps_per_epoch, validation_steps, validation_freq, mode, validation_in_fit, prepared_feed_values_from_dataset, steps_name, **kwargs)\u001b[0m\n\u001b[1;32m    388\u001b[0m         \u001b[0;31m# Callbacks batch_begin.\u001b[0m\u001b[0;34m\u001b[0m\u001b[0;34m\u001b[0m\u001b[0;34m\u001b[0m\u001b[0m\n\u001b[1;32m    389\u001b[0m         \u001b[0mbatch_logs\u001b[0m \u001b[0;34m=\u001b[0m \u001b[0;34m{\u001b[0m\u001b[0;34m'batch'\u001b[0m\u001b[0;34m:\u001b[0m \u001b[0mbatch_index\u001b[0m\u001b[0;34m,\u001b[0m \u001b[0;34m'size'\u001b[0m\u001b[0;34m:\u001b[0m \u001b[0mlen\u001b[0m\u001b[0;34m(\u001b[0m\u001b[0mbatch_ids\u001b[0m\u001b[0;34m)\u001b[0m\u001b[0;34m}\u001b[0m\u001b[0;34m\u001b[0m\u001b[0;34m\u001b[0m\u001b[0m\n\u001b[0;32m--> 390\u001b[0;31m         \u001b[0mcallbacks\u001b[0m\u001b[0;34m.\u001b[0m\u001b[0m_call_batch_hook\u001b[0m\u001b[0;34m(\u001b[0m\u001b[0mmode\u001b[0m\u001b[0;34m,\u001b[0m \u001b[0;34m'begin'\u001b[0m\u001b[0;34m,\u001b[0m \u001b[0mbatch_index\u001b[0m\u001b[0;34m,\u001b[0m \u001b[0mbatch_logs\u001b[0m\u001b[0;34m)\u001b[0m\u001b[0;34m\u001b[0m\u001b[0;34m\u001b[0m\u001b[0m\n\u001b[0m\u001b[1;32m    391\u001b[0m         \u001b[0mprogbar\u001b[0m\u001b[0;34m.\u001b[0m\u001b[0mon_batch_begin\u001b[0m\u001b[0;34m(\u001b[0m\u001b[0mbatch_index\u001b[0m\u001b[0;34m,\u001b[0m \u001b[0mbatch_logs\u001b[0m\u001b[0;34m)\u001b[0m\u001b[0;34m\u001b[0m\u001b[0;34m\u001b[0m\u001b[0m\n\u001b[1;32m    392\u001b[0m \u001b[0;34m\u001b[0m\u001b[0m\n",
            "\u001b[0;32m/usr/local/lib/python3.6/dist-packages/tensorflow_core/python/keras/callbacks.py\u001b[0m in \u001b[0;36m_call_batch_hook\u001b[0;34m(self, mode, hook, batch, logs)\u001b[0m\n\u001b[1;32m    237\u001b[0m     \u001b[0mself\u001b[0m\u001b[0;34m.\u001b[0m\u001b[0m_delta_ts\u001b[0m\u001b[0;34m[\u001b[0m\u001b[0mhook_name\u001b[0m\u001b[0;34m]\u001b[0m\u001b[0;34m.\u001b[0m\u001b[0mappend\u001b[0m\u001b[0;34m(\u001b[0m\u001b[0mtime\u001b[0m\u001b[0;34m.\u001b[0m\u001b[0mtime\u001b[0m\u001b[0;34m(\u001b[0m\u001b[0;34m)\u001b[0m \u001b[0;34m-\u001b[0m \u001b[0mt_before_callbacks\u001b[0m\u001b[0;34m)\u001b[0m\u001b[0;34m\u001b[0m\u001b[0;34m\u001b[0m\u001b[0m\n\u001b[1;32m    238\u001b[0m \u001b[0;34m\u001b[0m\u001b[0m\n\u001b[0;32m--> 239\u001b[0;31m     \u001b[0mdelta_t_median\u001b[0m \u001b[0;34m=\u001b[0m \u001b[0mnp\u001b[0m\u001b[0;34m.\u001b[0m\u001b[0mmedian\u001b[0m\u001b[0;34m(\u001b[0m\u001b[0mself\u001b[0m\u001b[0;34m.\u001b[0m\u001b[0m_delta_ts\u001b[0m\u001b[0;34m[\u001b[0m\u001b[0mhook_name\u001b[0m\u001b[0;34m]\u001b[0m\u001b[0;34m)\u001b[0m\u001b[0;34m\u001b[0m\u001b[0;34m\u001b[0m\u001b[0m\n\u001b[0m\u001b[1;32m    240\u001b[0m     if (self._delta_t_batch > 0. and\n\u001b[1;32m    241\u001b[0m         delta_t_median > 0.95 * self._delta_t_batch and delta_t_median > 0.1):\n",
            "\u001b[0;32m<__array_function__ internals>\u001b[0m in \u001b[0;36mmedian\u001b[0;34m(*args, **kwargs)\u001b[0m\n",
            "\u001b[0;32m/usr/local/lib/python3.6/dist-packages/numpy/lib/function_base.py\u001b[0m in \u001b[0;36mmedian\u001b[0;34m(a, axis, out, overwrite_input, keepdims)\u001b[0m\n\u001b[1;32m   3500\u001b[0m     \"\"\"\n\u001b[1;32m   3501\u001b[0m     r, k = _ureduce(a, func=_median, axis=axis, out=out,\n\u001b[0;32m-> 3502\u001b[0;31m                     overwrite_input=overwrite_input)\n\u001b[0m\u001b[1;32m   3503\u001b[0m     \u001b[0;32mif\u001b[0m \u001b[0mkeepdims\u001b[0m\u001b[0;34m:\u001b[0m\u001b[0;34m\u001b[0m\u001b[0;34m\u001b[0m\u001b[0m\n\u001b[1;32m   3504\u001b[0m         \u001b[0;32mreturn\u001b[0m \u001b[0mr\u001b[0m\u001b[0;34m.\u001b[0m\u001b[0mreshape\u001b[0m\u001b[0;34m(\u001b[0m\u001b[0mk\u001b[0m\u001b[0;34m)\u001b[0m\u001b[0;34m\u001b[0m\u001b[0;34m\u001b[0m\u001b[0m\n",
            "\u001b[0;32m/usr/local/lib/python3.6/dist-packages/numpy/lib/function_base.py\u001b[0m in \u001b[0;36m_ureduce\u001b[0;34m(a, func, **kwargs)\u001b[0m\n\u001b[1;32m   3408\u001b[0m         \u001b[0mkeepdim\u001b[0m \u001b[0;34m=\u001b[0m \u001b[0;34m(\u001b[0m\u001b[0;36m1\u001b[0m\u001b[0;34m,\u001b[0m\u001b[0;34m)\u001b[0m \u001b[0;34m*\u001b[0m \u001b[0ma\u001b[0m\u001b[0;34m.\u001b[0m\u001b[0mndim\u001b[0m\u001b[0;34m\u001b[0m\u001b[0;34m\u001b[0m\u001b[0m\n\u001b[1;32m   3409\u001b[0m \u001b[0;34m\u001b[0m\u001b[0m\n\u001b[0;32m-> 3410\u001b[0;31m     \u001b[0mr\u001b[0m \u001b[0;34m=\u001b[0m \u001b[0mfunc\u001b[0m\u001b[0;34m(\u001b[0m\u001b[0ma\u001b[0m\u001b[0;34m,\u001b[0m \u001b[0;34m**\u001b[0m\u001b[0mkwargs\u001b[0m\u001b[0;34m)\u001b[0m\u001b[0;34m\u001b[0m\u001b[0;34m\u001b[0m\u001b[0m\n\u001b[0m\u001b[1;32m   3411\u001b[0m     \u001b[0;32mreturn\u001b[0m \u001b[0mr\u001b[0m\u001b[0;34m,\u001b[0m \u001b[0mkeepdim\u001b[0m\u001b[0;34m\u001b[0m\u001b[0;34m\u001b[0m\u001b[0m\n\u001b[1;32m   3412\u001b[0m \u001b[0;34m\u001b[0m\u001b[0m\n",
            "\u001b[0;32m/usr/local/lib/python3.6/dist-packages/numpy/lib/function_base.py\u001b[0m in \u001b[0;36m_median\u001b[0;34m(a, axis, out, overwrite_input)\u001b[0m\n\u001b[1;32m   3523\u001b[0m     \u001b[0;31m# Check if the array contains any nan's\u001b[0m\u001b[0;34m\u001b[0m\u001b[0;34m\u001b[0m\u001b[0;34m\u001b[0m\u001b[0m\n\u001b[1;32m   3524\u001b[0m     \u001b[0;32mif\u001b[0m \u001b[0mnp\u001b[0m\u001b[0;34m.\u001b[0m\u001b[0missubdtype\u001b[0m\u001b[0;34m(\u001b[0m\u001b[0ma\u001b[0m\u001b[0;34m.\u001b[0m\u001b[0mdtype\u001b[0m\u001b[0;34m,\u001b[0m \u001b[0mnp\u001b[0m\u001b[0;34m.\u001b[0m\u001b[0minexact\u001b[0m\u001b[0;34m)\u001b[0m\u001b[0;34m:\u001b[0m\u001b[0;34m\u001b[0m\u001b[0;34m\u001b[0m\u001b[0m\n\u001b[0;32m-> 3525\u001b[0;31m         \u001b[0mkth\u001b[0m\u001b[0;34m.\u001b[0m\u001b[0mappend\u001b[0m\u001b[0;34m(\u001b[0m\u001b[0;34m-\u001b[0m\u001b[0;36m1\u001b[0m\u001b[0;34m)\u001b[0m\u001b[0;34m\u001b[0m\u001b[0;34m\u001b[0m\u001b[0m\n\u001b[0m\u001b[1;32m   3526\u001b[0m \u001b[0;34m\u001b[0m\u001b[0m\n\u001b[1;32m   3527\u001b[0m     \u001b[0;32mif\u001b[0m \u001b[0moverwrite_input\u001b[0m\u001b[0;34m:\u001b[0m\u001b[0;34m\u001b[0m\u001b[0;34m\u001b[0m\u001b[0m\n",
            "\u001b[0;31mKeyboardInterrupt\u001b[0m: "
          ]
        }
      ]
    },
    {
      "cell_type": "markdown",
      "metadata": {
        "id": "yRbQA5Zw55Yr",
        "colab_type": "text"
      },
      "source": [
        "# Setup & serve the frontend\n",
        "\n",
        "We're downloading and serving a pre-built React application from [github](https://github.com/vanpelt/emotion-detector)"
      ]
    },
    {
      "cell_type": "code",
      "metadata": {
        "id": "UhAYYxTzo9vA",
        "colab_type": "code",
        "colab": {}
      },
      "source": [
        "# Download the frontend build\n",
        "!rm -rf build\n",
        "!wget -q https://github.com/vanpelt/emotion-detector/releases/download/stable/frontend.zip\n",
        "!unzip -q frontend.zip"
      ],
      "execution_count": 0,
      "outputs": []
    },
    {
      "cell_type": "code",
      "metadata": {
        "id": "6IMdxcE3aRZF",
        "colab_type": "code",
        "outputId": "ffdd0789-3aa9-4db7-ff44-d8372409bba6",
        "colab": {
          "base_uri": "https://localhost:8080/",
          "height": 553
        }
      },
      "source": [
        "# Install tensorflowjs in a virtualenv\n",
        "%pip install -q virtualenv\n",
        "!virtualenv --no-site-packages venv && . venv/bin/activate && pip install -q tensorflowjs"
      ],
      "execution_count": 0,
      "outputs": [
        {
          "output_type": "stream",
          "text": [
            "\u001b[?25l\r\u001b[K     |                                | 10kB 35.7MB/s eta 0:00:01\r\u001b[K     |▏                               | 20kB 6.2MB/s eta 0:00:01\r\u001b[K     |▎                               | 30kB 8.8MB/s eta 0:00:01\r\u001b[K     |▍                               | 40kB 5.8MB/s eta 0:00:01\r\u001b[K     |▌                               | 51kB 7.0MB/s eta 0:00:01\r\u001b[K     |▋                               | 61kB 8.3MB/s eta 0:00:01\r\u001b[K     |▊                               | 71kB 9.5MB/s eta 0:00:01\r\u001b[K     |▉                               | 81kB 10.6MB/s eta 0:00:01\r\u001b[K     |▉                               | 92kB 8.4MB/s eta 0:00:01\r\u001b[K     |█                               | 102kB 9.2MB/s eta 0:00:01\r\u001b[K     |█                               | 112kB 9.2MB/s eta 0:00:01\r\u001b[K     |█▏                              | 122kB 9.2MB/s eta 0:00:01\r\u001b[K     |█▎                              | 133kB 9.2MB/s eta 0:00:01\r\u001b[K     |█▍                              | 143kB 9.2MB/s eta 0:00:01\r\u001b[K     |█▌                              | 153kB 9.2MB/s eta 0:00:01\r\u001b[K     |█▋                              | 163kB 9.2MB/s eta 0:00:01\r\u001b[K     |█▋                              | 174kB 9.2MB/s eta 0:00:01\r\u001b[K     |█▊                              | 184kB 9.2MB/s eta 0:00:01\r\u001b[K     |█▉                              | 194kB 9.2MB/s eta 0:00:01\r\u001b[K     |██                              | 204kB 9.2MB/s eta 0:00:01\r\u001b[K     |██                              | 215kB 9.2MB/s eta 0:00:01\r\u001b[K     |██▏                             | 225kB 9.2MB/s eta 0:00:01\r\u001b[K     |██▎                             | 235kB 9.2MB/s eta 0:00:01\r\u001b[K     |██▍                             | 245kB 9.2MB/s eta 0:00:01\r\u001b[K     |██▍                             | 256kB 9.2MB/s eta 0:00:01\r\u001b[K     |██▌                             | 266kB 9.2MB/s eta 0:00:01\r\u001b[K     |██▋                             | 276kB 9.2MB/s eta 0:00:01\r\u001b[K     |██▊                             | 286kB 9.2MB/s eta 0:00:01\r\u001b[K     |██▉                             | 296kB 9.2MB/s eta 0:00:01\r\u001b[K     |███                             | 307kB 9.2MB/s eta 0:00:01\r\u001b[K     |███                             | 317kB 9.2MB/s eta 0:00:01\r\u001b[K     |███▏                            | 327kB 9.2MB/s eta 0:00:01\r\u001b[K     |███▎                            | 337kB 9.2MB/s eta 0:00:01\r\u001b[K     |███▎                            | 348kB 9.2MB/s eta 0:00:01\r\u001b[K     |███▍                            | 358kB 9.2MB/s eta 0:00:01\r\u001b[K     |███▌                            | 368kB 9.2MB/s eta 0:00:01\r\u001b[K     |███▋                            | 378kB 9.2MB/s eta 0:00:01\r\u001b[K     |███▊                            | 389kB 9.2MB/s eta 0:00:01\r\u001b[K     |███▉                            | 399kB 9.2MB/s eta 0:00:01\r\u001b[K     |████                            | 409kB 9.2MB/s eta 0:00:01\r\u001b[K     |████                            | 419kB 9.2MB/s eta 0:00:01\r\u001b[K     |████                            | 430kB 9.2MB/s eta 0:00:01\r\u001b[K     |████▏                           | 440kB 9.2MB/s eta 0:00:01\r\u001b[K     |████▎                           | 450kB 9.2MB/s eta 0:00:01\r\u001b[K     |████▍                           | 460kB 9.2MB/s eta 0:00:01\r\u001b[K     |████▌                           | 471kB 9.2MB/s eta 0:00:01\r\u001b[K     |████▋                           | 481kB 9.2MB/s eta 0:00:01\r\u001b[K     |████▊                           | 491kB 9.2MB/s eta 0:00:01\r\u001b[K     |████▉                           | 501kB 9.2MB/s eta 0:00:01\r\u001b[K     |████▉                           | 512kB 9.2MB/s eta 0:00:01\r\u001b[K     |█████                           | 522kB 9.2MB/s eta 0:00:01\r\u001b[K     |█████                           | 532kB 9.2MB/s eta 0:00:01\r\u001b[K     |█████▏                          | 542kB 9.2MB/s eta 0:00:01\r\u001b[K     |█████▎                          | 552kB 9.2MB/s eta 0:00:01\r\u001b[K     |█████▍                          | 563kB 9.2MB/s eta 0:00:01\r\u001b[K     |█████▌                          | 573kB 9.2MB/s eta 0:00:01\r\u001b[K     |█████▋                          | 583kB 9.2MB/s eta 0:00:01\r\u001b[K     |█████▊                          | 593kB 9.2MB/s eta 0:00:01\r\u001b[K     |█████▊                          | 604kB 9.2MB/s eta 0:00:01\r\u001b[K     |█████▉                          | 614kB 9.2MB/s eta 0:00:01\r\u001b[K     |██████                          | 624kB 9.2MB/s eta 0:00:01\r\u001b[K     |██████                          | 634kB 9.2MB/s eta 0:00:01\r\u001b[K     |██████▏                         | 645kB 9.2MB/s eta 0:00:01\r\u001b[K     |██████▎                         | 655kB 9.2MB/s eta 0:00:01\r\u001b[K     |██████▍                         | 665kB 9.2MB/s eta 0:00:01\r\u001b[K     |██████▌                         | 675kB 9.2MB/s eta 0:00:01\r\u001b[K     |██████▌                         | 686kB 9.2MB/s eta 0:00:01\r\u001b[K     |██████▋                         | 696kB 9.2MB/s eta 0:00:01\r\u001b[K     |██████▊                         | 706kB 9.2MB/s eta 0:00:01\r\u001b[K     |██████▉                         | 716kB 9.2MB/s eta 0:00:01\r\u001b[K     |███████                         | 727kB 9.2MB/s eta 0:00:01\r\u001b[K     |███████                         | 737kB 9.2MB/s eta 0:00:01\r\u001b[K     |███████▏                        | 747kB 9.2MB/s eta 0:00:01\r\u001b[K     |███████▎                        | 757kB 9.2MB/s eta 0:00:01\r\u001b[K     |███████▎                        | 768kB 9.2MB/s eta 0:00:01\r\u001b[K     |███████▍                        | 778kB 9.2MB/s eta 0:00:01\r\u001b[K     |███████▌                        | 788kB 9.2MB/s eta 0:00:01\r\u001b[K     |███████▋                        | 798kB 9.2MB/s eta 0:00:01\r\u001b[K     |███████▊                        | 808kB 9.2MB/s eta 0:00:01\r\u001b[K     |███████▉                        | 819kB 9.2MB/s eta 0:00:01\r\u001b[K     |████████                        | 829kB 9.2MB/s eta 0:00:01\r\u001b[K     |████████                        | 839kB 9.2MB/s eta 0:00:01\r\u001b[K     |████████▏                       | 849kB 9.2MB/s eta 0:00:01\r\u001b[K     |████████▏                       | 860kB 9.2MB/s eta 0:00:01\r\u001b[K     |████████▎                       | 870kB 9.2MB/s eta 0:00:01\r\u001b[K     |████████▍                       | 880kB 9.2MB/s eta 0:00:01\r\u001b[K     |████████▌                       | 890kB 9.2MB/s eta 0:00:01\r\u001b[K     |████████▋                       | 901kB 9.2MB/s eta 0:00:01\r\u001b[K     |████████▊                       | 911kB 9.2MB/s eta 0:00:01\r\u001b[K     |████████▉                       | 921kB 9.2MB/s eta 0:00:01\r\u001b[K     |█████████                       | 931kB 9.2MB/s eta 0:00:01\r\u001b[K     |█████████                       | 942kB 9.2MB/s eta 0:00:01\r\u001b[K     |█████████                       | 952kB 9.2MB/s eta 0:00:01\r\u001b[K     |█████████▏                      | 962kB 9.2MB/s eta 0:00:01\r\u001b[K     |█████████▎                      | 972kB 9.2MB/s eta 0:00:01\r\u001b[K     |█████████▍                      | 983kB 9.2MB/s eta 0:00:01\r\u001b[K     |█████████▌                      | 993kB 9.2MB/s eta 0:00:01\r\u001b[K     |█████████▋                      | 1.0MB 9.2MB/s eta 0:00:01\r\u001b[K     |█████████▊                      | 1.0MB 9.2MB/s eta 0:00:01\r\u001b[K     |█████████▊                      | 1.0MB 9.2MB/s eta 0:00:01\r\u001b[K     |█████████▉                      | 1.0MB 9.2MB/s eta 0:00:01\r\u001b[K     |██████████                      | 1.0MB 9.2MB/s eta 0:00:01\r\u001b[K     |██████████                      | 1.1MB 9.2MB/s eta 0:00:01\r\u001b[K     |██████████▏                     | 1.1MB 9.2MB/s eta 0:00:01\r\u001b[K     |██████████▎                     | 1.1MB 9.2MB/s eta 0:00:01\r\u001b[K     |██████████▍                     | 1.1MB 9.2MB/s eta 0:00:01\r\u001b[K     |██████████▌                     | 1.1MB 9.2MB/s eta 0:00:01\r\u001b[K     |██████████▋                     | 1.1MB 9.2MB/s eta 0:00:01\r\u001b[K     |██████████▋                     | 1.1MB 9.2MB/s eta 0:00:01\r\u001b[K     |██████████▊                     | 1.1MB 9.2MB/s eta 0:00:01\r\u001b[K     |██████████▉                     | 1.1MB 9.2MB/s eta 0:00:01\r\u001b[K     |███████████                     | 1.1MB 9.2MB/s eta 0:00:01\r\u001b[K     |███████████                     | 1.2MB 9.2MB/s eta 0:00:01\r\u001b[K     |███████████▏                    | 1.2MB 9.2MB/s eta 0:00:01\r\u001b[K     |███████████▎                    | 1.2MB 9.2MB/s eta 0:00:01\r\u001b[K     |███████████▍                    | 1.2MB 9.2MB/s eta 0:00:01\r\u001b[K     |███████████▍                    | 1.2MB 9.2MB/s eta 0:00:01\r\u001b[K     |███████████▌                    | 1.2MB 9.2MB/s eta 0:00:01\r\u001b[K     |███████████▋                    | 1.2MB 9.2MB/s eta 0:00:01\r\u001b[K     |███████████▊                    | 1.2MB 9.2MB/s eta 0:00:01\r\u001b[K     |███████████▉                    | 1.2MB 9.2MB/s eta 0:00:01\r\u001b[K     |████████████                    | 1.2MB 9.2MB/s eta 0:00:01\r\u001b[K     |████████████                    | 1.3MB 9.2MB/s eta 0:00:01\r\u001b[K     |████████████▏                   | 1.3MB 9.2MB/s eta 0:00:01\r\u001b[K     |████████████▏                   | 1.3MB 9.2MB/s eta 0:00:01\r\u001b[K     |████████████▎                   | 1.3MB 9.2MB/s eta 0:00:01\r\u001b[K     |████████████▍                   | 1.3MB 9.2MB/s eta 0:00:01\r\u001b[K     |████████████▌                   | 1.3MB 9.2MB/s eta 0:00:01\r\u001b[K     |████████████▋                   | 1.3MB 9.2MB/s eta 0:00:01\r\u001b[K     |████████████▊                   | 1.3MB 9.2MB/s eta 0:00:01\r\u001b[K     |████████████▉                   | 1.3MB 9.2MB/s eta 0:00:01\r\u001b[K     |█████████████                   | 1.4MB 9.2MB/s eta 0:00:01\r\u001b[K     |█████████████                   | 1.4MB 9.2MB/s eta 0:00:01\r\u001b[K     |█████████████                   | 1.4MB 9.2MB/s eta 0:00:01\r\u001b[K     |█████████████▏                  | 1.4MB 9.2MB/s eta 0:00:01\r\u001b[K     |█████████████▎                  | 1.4MB 9.2MB/s eta 0:00:01\r\u001b[K     |█████████████▍                  | 1.4MB 9.2MB/s eta 0:00:01\r\u001b[K     |█████████████▌                  | 1.4MB 9.2MB/s eta 0:00:01\r\u001b[K     |█████████████▋                  | 1.4MB 9.2MB/s eta 0:00:01\r\u001b[K     |█████████████▊                  | 1.4MB 9.2MB/s eta 0:00:01\r\u001b[K     |█████████████▉                  | 1.4MB 9.2MB/s eta 0:00:01\r\u001b[K     |█████████████▉                  | 1.5MB 9.2MB/s eta 0:00:01\r\u001b[K     |██████████████                  | 1.5MB 9.2MB/s eta 0:00:01\r\u001b[K     |██████████████                  | 1.5MB 9.2MB/s eta 0:00:01\r\u001b[K     |██████████████▏                 | 1.5MB 9.2MB/s eta 0:00:01\r\u001b[K     |██████████████▎                 | 1.5MB 9.2MB/s eta 0:00:01\r\u001b[K     |██████████████▍                 | 1.5MB 9.2MB/s eta 0:00:01\r\u001b[K     |██████████████▌                 | 1.5MB 9.2MB/s eta 0:00:01\r\u001b[K     |██████████████▋                 | 1.5MB 9.2MB/s eta 0:00:01\r\u001b[K     |██████████████▋                 | 1.5MB 9.2MB/s eta 0:00:01\r\u001b[K     |██████████████▊                 | 1.5MB 9.2MB/s eta 0:00:01\r\u001b[K     |██████████████▉                 | 1.6MB 9.2MB/s eta 0:00:01\r\u001b[K     |███████████████                 | 1.6MB 9.2MB/s eta 0:00:01\r\u001b[K     |███████████████                 | 1.6MB 9.2MB/s eta 0:00:01\r\u001b[K     |███████████████▏                | 1.6MB 9.2MB/s eta 0:00:01\r\u001b[K     |███████████████▎                | 1.6MB 9.2MB/s eta 0:00:01\r\u001b[K     |███████████████▍                | 1.6MB 9.2MB/s eta 0:00:01\r\u001b[K     |███████████████▌                | 1.6MB 9.2MB/s eta 0:00:01\r\u001b[K     |███████████████▌                | 1.6MB 9.2MB/s eta 0:00:01\r\u001b[K     |███████████████▋                | 1.6MB 9.2MB/s eta 0:00:01\r\u001b[K     |███████████████▊                | 1.6MB 9.2MB/s eta 0:00:01\r\u001b[K     |███████████████▉                | 1.7MB 9.2MB/s eta 0:00:01\r\u001b[K     |████████████████                | 1.7MB 9.2MB/s eta 0:00:01\r\u001b[K     |████████████████                | 1.7MB 9.2MB/s eta 0:00:01\r\u001b[K     |████████████████▏               | 1.7MB 9.2MB/s eta 0:00:01\r\u001b[K     |████████████████▎               | 1.7MB 9.2MB/s eta 0:00:01\r\u001b[K     |████████████████▎               | 1.7MB 9.2MB/s eta 0:00:01\r\u001b[K     |████████████████▍               | 1.7MB 9.2MB/s eta 0:00:01\r\u001b[K     |████████████████▌               | 1.7MB 9.2MB/s eta 0:00:01\r\u001b[K     |████████████████▋               | 1.7MB 9.2MB/s eta 0:00:01\r\u001b[K     |████████████████▊               | 1.8MB 9.2MB/s eta 0:00:01\r\u001b[K     |████████████████▉               | 1.8MB 9.2MB/s eta 0:00:01\r\u001b[K     |█████████████████               | 1.8MB 9.2MB/s eta 0:00:01\r\u001b[K     |█████████████████               | 1.8MB 9.2MB/s eta 0:00:01\r\u001b[K     |█████████████████               | 1.8MB 9.2MB/s eta 0:00:01\r\u001b[K     |█████████████████▏              | 1.8MB 9.2MB/s eta 0:00:01\r\u001b[K     |█████████████████▎              | 1.8MB 9.2MB/s eta 0:00:01\r\u001b[K     |█████████████████▍              | 1.8MB 9.2MB/s eta 0:00:01\r\u001b[K     |█████████████████▌              | 1.8MB 9.2MB/s eta 0:00:01\r\u001b[K     |█████████████████▋              | 1.8MB 9.2MB/s eta 0:00:01\r\u001b[K     |█████████████████▊              | 1.9MB 9.2MB/s eta 0:00:01\r\u001b[K     |█████████████████▉              | 1.9MB 9.2MB/s eta 0:00:01\r\u001b[K     |██████████████████              | 1.9MB 9.2MB/s eta 0:00:01\r\u001b[K     |██████████████████              | 1.9MB 9.2MB/s eta 0:00:01\r\u001b[K     |██████████████████              | 1.9MB 9.2MB/s eta 0:00:01\r\u001b[K     |██████████████████▏             | 1.9MB 9.2MB/s eta 0:00:01\r\u001b[K     |██████████████████▎             | 1.9MB 9.2MB/s eta 0:00:01\r\u001b[K     |██████████████████▍             | 1.9MB 9.2MB/s eta 0:00:01\r\u001b[K     |██████████████████▌             | 1.9MB 9.2MB/s eta 0:00:01\r\u001b[K     |██████████████████▋             | 1.9MB 9.2MB/s eta 0:00:01\r\u001b[K     |██████████████████▊             | 2.0MB 9.2MB/s eta 0:00:01\r\u001b[K     |██████████████████▊             | 2.0MB 9.2MB/s eta 0:00:01\r\u001b[K     |██████████████████▉             | 2.0MB 9.2MB/s eta 0:00:01\r\u001b[K     |███████████████████             | 2.0MB 9.2MB/s eta 0:00:01\r\u001b[K     |███████████████████             | 2.0MB 9.2MB/s eta 0:00:01\r\u001b[K     |███████████████████▏            | 2.0MB 9.2MB/s eta 0:00:01\r\u001b[K     |███████████████████▎            | 2.0MB 9.2MB/s eta 0:00:01\r\u001b[K     |███████████████████▍            | 2.0MB 9.2MB/s eta 0:00:01\r\u001b[K     |███████████████████▌            | 2.0MB 9.2MB/s eta 0:00:01\r\u001b[K     |███████████████████▌            | 2.0MB 9.2MB/s eta 0:00:01\r\u001b[K     |███████████████████▋            | 2.1MB 9.2MB/s eta 0:00:01\r\u001b[K     |███████████████████▊            | 2.1MB 9.2MB/s eta 0:00:01\r\u001b[K     |███████████████████▉            | 2.1MB 9.2MB/s eta 0:00:01\r\u001b[K     |████████████████████            | 2.1MB 9.2MB/s eta 0:00:01\r\u001b[K     |████████████████████            | 2.1MB 9.2MB/s eta 0:00:01\r\u001b[K     |████████████████████▏           | 2.1MB 9.2MB/s eta 0:00:01\r\u001b[K     |████████████████████▎           | 2.1MB 9.2MB/s eta 0:00:01\r\u001b[K     |████████████████████▍           | 2.1MB 9.2MB/s eta 0:00:01\r\u001b[K     |████████████████████▍           | 2.1MB 9.2MB/s eta 0:00:01\r\u001b[K     |████████████████████▌           | 2.2MB 9.2MB/s eta 0:00:01\r\u001b[K     |████████████████████▋           | 2.2MB 9.2MB/s eta 0:00:01\r\u001b[K     |████████████████████▊           | 2.2MB 9.2MB/s eta 0:00:01\r\u001b[K     |████████████████████▉           | 2.2MB 9.2MB/s eta 0:00:01\r\u001b[K     |█████████████████████           | 2.2MB 9.2MB/s eta 0:00:01\r\u001b[K     |█████████████████████           | 2.2MB 9.2MB/s eta 0:00:01\r\u001b[K     |█████████████████████▏          | 2.2MB 9.2MB/s eta 0:00:01\r\u001b[K     |█████████████████████▏          | 2.2MB 9.2MB/s eta 0:00:01\r\u001b[K     |█████████████████████▎          | 2.2MB 9.2MB/s eta 0:00:01\r\u001b[K     |█████████████████████▍          | 2.2MB 9.2MB/s eta 0:00:01\r\u001b[K     |█████████████████████▌          | 2.3MB 9.2MB/s eta 0:00:01\r\u001b[K     |█████████████████████▋          | 2.3MB 9.2MB/s eta 0:00:01\r\u001b[K     |█████████████████████▊          | 2.3MB 9.2MB/s eta 0:00:01\r\u001b[K     |█████████████████████▉          | 2.3MB 9.2MB/s eta 0:00:01\r\u001b[K     |██████████████████████          | 2.3MB 9.2MB/s eta 0:00:01\r\u001b[K     |██████████████████████          | 2.3MB 9.2MB/s eta 0:00:01\r\u001b[K     |██████████████████████          | 2.3MB 9.2MB/s eta 0:00:01\r\u001b[K     |██████████████████████▏         | 2.3MB 9.2MB/s eta 0:00:01\r\u001b[K     |██████████████████████▎         | 2.3MB 9.2MB/s eta 0:00:01\r\u001b[K     |██████████████████████▍         | 2.3MB 9.2MB/s eta 0:00:01\r\u001b[K     |██████████████████████▌         | 2.4MB 9.2MB/s eta 0:00:01\r\u001b[K     |██████████████████████▋         | 2.4MB 9.2MB/s eta 0:00:01\r\u001b[K     |██████████████████████▊         | 2.4MB 9.2MB/s eta 0:00:01\r\u001b[K     |██████████████████████▉         | 2.4MB 9.2MB/s eta 0:00:01\r\u001b[K     |██████████████████████▉         | 2.4MB 9.2MB/s eta 0:00:01\r\u001b[K     |███████████████████████         | 2.4MB 9.2MB/s eta 0:00:01\r\u001b[K     |███████████████████████         | 2.4MB 9.2MB/s eta 0:00:01\r\u001b[K     |███████████████████████▏        | 2.4MB 9.2MB/s eta 0:00:01\r\u001b[K     |███████████████████████▎        | 2.4MB 9.2MB/s eta 0:00:01\r\u001b[K     |███████████████████████▍        | 2.4MB 9.2MB/s eta 0:00:01\r\u001b[K     |███████████████████████▌        | 2.5MB 9.2MB/s eta 0:00:01\r\u001b[K     |███████████████████████▋        | 2.5MB 9.2MB/s eta 0:00:01\r\u001b[K     |███████████████████████▋        | 2.5MB 9.2MB/s eta 0:00:01\r\u001b[K     |███████████████████████▊        | 2.5MB 9.2MB/s eta 0:00:01\r\u001b[K     |███████████████████████▉        | 2.5MB 9.2MB/s eta 0:00:01\r\u001b[K     |████████████████████████        | 2.5MB 9.2MB/s eta 0:00:01\r\u001b[K     |████████████████████████        | 2.5MB 9.2MB/s eta 0:00:01\r\u001b[K     |████████████████████████▏       | 2.5MB 9.2MB/s eta 0:00:01\r\u001b[K     |████████████████████████▎       | 2.5MB 9.2MB/s eta 0:00:01\r\u001b[K     |████████████████████████▍       | 2.5MB 9.2MB/s eta 0:00:01\r\u001b[K     |████████████████████████▍       | 2.6MB 9.2MB/s eta 0:00:01\r\u001b[K     |████████████████████████▌       | 2.6MB 9.2MB/s eta 0:00:01\r\u001b[K     |████████████████████████▋       | 2.6MB 9.2MB/s eta 0:00:01\r\u001b[K     |████████████████████████▊       | 2.6MB 9.2MB/s eta 0:00:01\r\u001b[K     |████████████████████████▉       | 2.6MB 9.2MB/s eta 0:00:01\r\u001b[K     |█████████████████████████       | 2.6MB 9.2MB/s eta 0:00:01\r\u001b[K     |█████████████████████████       | 2.6MB 9.2MB/s eta 0:00:01\r\u001b[K     |█████████████████████████▏      | 2.6MB 9.2MB/s eta 0:00:01\r\u001b[K     |█████████████████████████▎      | 2.6MB 9.2MB/s eta 0:00:01\r\u001b[K     |█████████████████████████▎      | 2.7MB 9.2MB/s eta 0:00:01\r\u001b[K     |█████████████████████████▍      | 2.7MB 9.2MB/s eta 0:00:01\r\u001b[K     |█████████████████████████▌      | 2.7MB 9.2MB/s eta 0:00:01\r\u001b[K     |█████████████████████████▋      | 2.7MB 9.2MB/s eta 0:00:01\r\u001b[K     |█████████████████████████▊      | 2.7MB 9.2MB/s eta 0:00:01\r\u001b[K     |█████████████████████████▉      | 2.7MB 9.2MB/s eta 0:00:01\r\u001b[K     |██████████████████████████      | 2.7MB 9.2MB/s eta 0:00:01\r\u001b[K     |██████████████████████████      | 2.7MB 9.2MB/s eta 0:00:01\r\u001b[K     |██████████████████████████      | 2.7MB 9.2MB/s eta 0:00:01\r\u001b[K     |██████████████████████████▏     | 2.7MB 9.2MB/s eta 0:00:01\r\u001b[K     |██████████████████████████▎     | 2.8MB 9.2MB/s eta 0:00:01\r\u001b[K     |██████████████████████████▍     | 2.8MB 9.2MB/s eta 0:00:01\r\u001b[K     |██████████████████████████▌     | 2.8MB 9.2MB/s eta 0:00:01\r\u001b[K     |██████████████████████████▋     | 2.8MB 9.2MB/s eta 0:00:01\r\u001b[K     |██████████████████████████▊     | 2.8MB 9.2MB/s eta 0:00:01\r\u001b[K     |██████████████████████████▉     | 2.8MB 9.2MB/s eta 0:00:01\r\u001b[K     |██████████████████████████▉     | 2.8MB 9.2MB/s eta 0:00:01\r\u001b[K     |███████████████████████████     | 2.8MB 9.2MB/s eta 0:00:01\r\u001b[K     |███████████████████████████     | 2.8MB 9.2MB/s eta 0:00:01\r\u001b[K     |███████████████████████████▏    | 2.8MB 9.2MB/s eta 0:00:01\r\u001b[K     |███████████████████████████▎    | 2.9MB 9.2MB/s eta 0:00:01\r\u001b[K     |███████████████████████████▍    | 2.9MB 9.2MB/s eta 0:00:01\r\u001b[K     |███████████████████████████▌    | 2.9MB 9.2MB/s eta 0:00:01\r\u001b[K     |███████████████████████████▋    | 2.9MB 9.2MB/s eta 0:00:01\r\u001b[K     |███████████████████████████▊    | 2.9MB 9.2MB/s eta 0:00:01\r\u001b[K     |███████████████████████████▊    | 2.9MB 9.2MB/s eta 0:00:01\r\u001b[K     |███████████████████████████▉    | 2.9MB 9.2MB/s eta 0:00:01\r\u001b[K     |████████████████████████████    | 2.9MB 9.2MB/s eta 0:00:01\r\u001b[K     |████████████████████████████    | 2.9MB 9.2MB/s eta 0:00:01\r\u001b[K     |████████████████████████████▏   | 2.9MB 9.2MB/s eta 0:00:01\r\u001b[K     |████████████████████████████▎   | 3.0MB 9.2MB/s eta 0:00:01\r\u001b[K     |████████████████████████████▍   | 3.0MB 9.2MB/s eta 0:00:01\r\u001b[K     |████████████████████████████▌   | 3.0MB 9.2MB/s eta 0:00:01\r\u001b[K     |████████████████████████████▌   | 3.0MB 9.2MB/s eta 0:00:01\r\u001b[K     |████████████████████████████▋   | 3.0MB 9.2MB/s eta 0:00:01\r\u001b[K     |████████████████████████████▊   | 3.0MB 9.2MB/s eta 0:00:01\r\u001b[K     |████████████████████████████▉   | 3.0MB 9.2MB/s eta 0:00:01\r\u001b[K     |█████████████████████████████   | 3.0MB 9.2MB/s eta 0:00:01\r\u001b[K     |█████████████████████████████   | 3.0MB 9.2MB/s eta 0:00:01\r\u001b[K     |█████████████████████████████▏  | 3.1MB 9.2MB/s eta 0:00:01\r\u001b[K     |█████████████████████████████▎  | 3.1MB 9.2MB/s eta 0:00:01\r\u001b[K     |█████████████████████████████▎  | 3.1MB 9.2MB/s eta 0:00:01\r\u001b[K     |█████████████████████████████▍  | 3.1MB 9.2MB/s eta 0:00:01\r\u001b[K     |█████████████████████████████▌  | 3.1MB 9.2MB/s eta 0:00:01\r\u001b[K     |█████████████████████████████▋  | 3.1MB 9.2MB/s eta 0:00:01\r\u001b[K     |█████████████████████████████▊  | 3.1MB 9.2MB/s eta 0:00:01\r\u001b[K     |█████████████████████████████▉  | 3.1MB 9.2MB/s eta 0:00:01\r\u001b[K     |██████████████████████████████  | 3.1MB 9.2MB/s eta 0:00:01\r\u001b[K     |██████████████████████████████  | 3.1MB 9.2MB/s eta 0:00:01\r\u001b[K     |██████████████████████████████▏ | 3.2MB 9.2MB/s eta 0:00:01\r\u001b[K     |██████████████████████████████▏ | 3.2MB 9.2MB/s eta 0:00:01\r\u001b[K     |██████████████████████████████▎ | 3.2MB 9.2MB/s eta 0:00:01\r\u001b[K     |██████████████████████████████▍ | 3.2MB 9.2MB/s eta 0:00:01\r\u001b[K     |██████████████████████████████▌ | 3.2MB 9.2MB/s eta 0:00:01\r\u001b[K     |██████████████████████████████▋ | 3.2MB 9.2MB/s eta 0:00:01\r\u001b[K     |██████████████████████████████▊ | 3.2MB 9.2MB/s eta 0:00:01\r\u001b[K     |██████████████████████████████▉ | 3.2MB 9.2MB/s eta 0:00:01\r\u001b[K     |███████████████████████████████ | 3.2MB 9.2MB/s eta 0:00:01\r\u001b[K     |███████████████████████████████ | 3.2MB 9.2MB/s eta 0:00:01\r\u001b[K     |███████████████████████████████ | 3.3MB 9.2MB/s eta 0:00:01\r\u001b[K     |███████████████████████████████▏| 3.3MB 9.2MB/s eta 0:00:01\r\u001b[K     |███████████████████████████████▎| 3.3MB 9.2MB/s eta 0:00:01\r\u001b[K     |███████████████████████████████▍| 3.3MB 9.2MB/s eta 0:00:01\r\u001b[K     |███████████████████████████████▌| 3.3MB 9.2MB/s eta 0:00:01\r\u001b[K     |███████████████████████████████▋| 3.3MB 9.2MB/s eta 0:00:01\r\u001b[K     |███████████████████████████████▊| 3.3MB 9.2MB/s eta 0:00:01\r\u001b[K     |███████████████████████████████▊| 3.3MB 9.2MB/s eta 0:00:01\r\u001b[K     |███████████████████████████████▉| 3.3MB 9.2MB/s eta 0:00:01\r\u001b[K     |████████████████████████████████| 3.3MB 9.2MB/s eta 0:00:01\r\u001b[K     |████████████████████████████████| 3.4MB 9.2MB/s \n",
            "\u001b[?25hUsing base prefix '/usr'\n",
            "New python executable in /content/venv/bin/python3\n",
            "Also creating executable in /content/venv/bin/python\n",
            "Installing setuptools, pip, wheel...\n",
            "done.\n",
            "\u001b[K     |████████████████████████████████| 61kB 5.1MB/s \n",
            "\u001b[K     |████████████████████████████████| 17.3MB 18.1MB/s \n",
            "\u001b[K     |████████████████████████████████| 2.8MB 74.1MB/s \n",
            "\u001b[K     |████████████████████████████████| 412.3MB 42kB/s \n",
            "\u001b[K     |████████████████████████████████| 81kB 11.8MB/s \n",
            "\u001b[K     |████████████████████████████████| 256kB 68.4MB/s \n",
            "\u001b[K     |████████████████████████████████| 890kB 52.0MB/s \n",
            "\u001b[K     |████████████████████████████████| 645kB 67.6MB/s \n",
            "\u001b[K     |████████████████████████████████| 71kB 11.1MB/s \n",
            "\u001b[K     |████████████████████████████████| 3.8MB 60.9MB/s \n",
            "\u001b[K     |████████████████████████████████| 51kB 8.3MB/s \n",
            "\u001b[K     |████████████████████████████████| 61kB 10.1MB/s \n",
            "\u001b[K     |████████████████████████████████| 51kB 8.7MB/s \n",
            "\u001b[K     |████████████████████████████████| 112kB 80.1MB/s \n",
            "\u001b[K     |████████████████████████████████| 1.3MB 18.9MB/s \n",
            "\u001b[K     |████████████████████████████████| 512kB 64.2MB/s \n",
            "\u001b[K     |████████████████████████████████| 2.4MB 62.0MB/s \n",
            "\u001b[K     |████████████████████████████████| 327kB 62.1MB/s \n",
            "\u001b[K     |████████████████████████████████| 92kB 13.6MB/s \n",
            "\u001b[?25h  Building wheel for PyInquirer (setup.py) ... \u001b[?25l\u001b[?25hdone\n",
            "  Building wheel for gast (setup.py) ... \u001b[?25l\u001b[?25hdone\n",
            "  Building wheel for opt-einsum (setup.py) ... \u001b[?25l\u001b[?25hdone\n",
            "  Building wheel for absl-py (setup.py) ... \u001b[?25l\u001b[?25hdone\n",
            "  Building wheel for termcolor (setup.py) ... \u001b[?25l\u001b[?25hdone\n",
            "  Building wheel for wrapt (setup.py) ... \u001b[?25l\u001b[?25hdone\n"
          ],
          "name": "stdout"
        }
      ]
    },
    {
      "cell_type": "code",
      "metadata": {
        "id": "qBYv-QDl2f4G",
        "colab_type": "code",
        "colab": {}
      },
      "source": [
        "# Quantize our trained model\n",
        "!. venv/bin/activate && tensorflowjs_converter --input_format keras --quantization_bytes 2 emotion.h5 build/models"
      ],
      "execution_count": 0,
      "outputs": []
    },
    {
      "cell_type": "code",
      "metadata": {
        "id": "hRpqPdPQp1OK",
        "colab_type": "code",
        "colab": {}
      },
      "source": [
        "# Serve our custom UI\n",
        "from subprocess import Popen\n",
        "import portpicker\n",
        "try:\n",
        "  server.kill()\n",
        "except NameError:\n",
        "  pass\n",
        "port = portpicker.pick_unused_port()\n",
        "server = Popen([\"cd ./build && python -m http.server %i\" % port], shell=True,\n",
        "               stdin=None, stdout=None, stderr=None, close_fds=True)"
      ],
      "execution_count": 0,
      "outputs": []
    },
    {
      "cell_type": "code",
      "metadata": {
        "id": "H3kHfhxpj3PE",
        "colab_type": "code",
        "outputId": "881f2192-0683-4e61-ee34-f811ea6bf808",
        "colab": {
          "base_uri": "https://localhost:8080/",
          "height": 600
        }
      },
      "source": [
        "#Setup the interface for display\n",
        "import IPython\n",
        "html = open(\"./build/index.html\").read()\n",
        "body = html.replace('=\"/', '=\"https://localhost:{}/'.format(port),10)\n",
        "body = body.replace(\"</head>\", '<script type=\"text/javascript\"/>window.BASE_URL = \"https://localhost:{}/\";google.colab.output.setIframeHeight(600)</script></head>'.format(port))\n",
        "display(IPython.display.HTML(body))"
      ],
      "execution_count": 0,
      "outputs": [
        {
          "output_type": "display_data",
          "data": {
            "text/html": [
              "<!doctype html><html lang=\"en\"><head><meta charset=\"utf-8\"/><link rel=\"shortcut icon\" href=\"https://localhost:19701/favicon.png\"/><meta name=\"viewport\" content=\"width=device-width,initial-scale=1,shrink-to-fit=no\"/><meta name=\"theme-color\" content=\"#000000\"/><link rel=\"manifest\" href=\"https://localhost:19701/manifest.json\"/><title>Emotion Detector</title><link href=\"https://localhost:19701/static/css/main.2aed36ba.chunk.css\" rel=\"stylesheet\"><script type=\"text/javascript\"/>window.BASE_URL = \"https://localhost:19701/\";google.colab.output.setIframeHeight(600)</script></head><body><noscript>You need to enable JavaScript to run this app.</noscript><div id=\"root\"></div><script>!function(l){function e(e){for(var r,t,n=e[0],o=e[1],u=e[2],f=0,i=[];f<n.length;f++)t=n[f],p[t]&&i.push(p[t][0]),p[t]=0;for(r in o)Object.prototype.hasOwnProperty.call(o,r)&&(l[r]=o[r]);for(s&&s(e);i.length;)i.shift()();return c.push.apply(c,u||[]),a()}function a(){for(var e,r=0;r<c.length;r++){for(var t=c[r],n=!0,o=1;o<t.length;o++){var u=t[o];0!==p[u]&&(n=!1)}n&&(c.splice(r--,1),e=f(f.s=t[0]))}return e}var t={},p={1:0},c=[];function f(e){if(t[e])return t[e].exports;var r=t[e]={i:e,l:!1,exports:{}};return l[e].call(r.exports,r,r.exports,f),r.l=!0,r.exports}f.m=l,f.c=t,f.d=function(e,r,t){f.o(e,r)||Object.defineProperty(e,r,{enumerable:!0,get:t})},f.r=function(e){\"undefined\"!=typeof Symbol&&Symbol.toStringTag&&Object.defineProperty(e,Symbol.toStringTag,{value:\"Module\"}),Object.defineProperty(e,\"__esModule\",{value:!0})},f.t=function(r,e){if(1&e&&(r=f(r)),8&e)return r;if(4&e&&\"object\"==typeof r&&r&&r.__esModule)return r;var t=Object.create(null);if(f.r(t),Object.defineProperty(t,\"default\",{enumerable:!0,value:r}),2&e&&\"string\"!=typeof r)for(var n in r)f.d(t,n,function(e){return r[e]}.bind(null,n));return t},f.n=function(e){var r=e&&e.__esModule?function(){return e.default}:function(){return e};return f.d(r,\"a\",r),r},f.o=function(e,r){return Object.prototype.hasOwnProperty.call(e,r)},f.p=\"https://localhost:19701/\";var r=window.webpackJsonp=window.webpackJsonp||[],n=r.push.bind(r);r.push=e,r=r.slice();for(var o=0;o<r.length;o++)e(r[o]);var s=n;a()}([])</script><script src=\"https://localhost:19701/static/js/2.43f622c5.chunk.js\"></script><script src=\"https://localhost:19701/static/js/main.568b2f77.chunk.js\"></script></body></html>"
            ],
            "text/plain": [
              "<IPython.core.display.HTML object>"
            ]
          },
          "metadata": {
            "tags": []
          }
        }
      ]
    },
    {
      "cell_type": "markdown",
      "metadata": {
        "id": "I3PkvBxc0onw",
        "colab_type": "text"
      },
      "source": [
        "# Hyper Parameter Sweeps\n",
        "\n",
        "Full documentation [here](https://docs.wandb.com/library/sweeps/python-api).  \n",
        "\n",
        "*WARNING* if you've run the train method in the main thread you must click \"Restart runtime\" before running a sweep.  Unfortunately tensorflow is only fork safe if it was never run in the main process.\n"
      ]
    },
    {
      "cell_type": "code",
      "metadata": {
        "id": "pHpGJx5nJrRJ",
        "colab_type": "code",
        "outputId": "7f5f7fa6-8d9e-4d5f-9c98-d2bdc34fc835",
        "colab": {
          "base_uri": "https://localhost:8080/",
          "height": 52
        }
      },
      "source": [
        "# Configure the sweep\n",
        "sweep_config = {\n",
        "  \"name\": \"Simple grid search\",\n",
        "  \"method\": \"grid\",\n",
        "  \"parameters\": {\n",
        "        \"learning_rate\": {\n",
        "            \"values\": [0.001, 0.003, 0.005]\n",
        "        },\n",
        "        \"batch_size\": {\n",
        "            \"values\": [32, 64, 128]\n",
        "        },\n",
        "        \"dropout\": {\n",
        "            \"values\": [0.2, 0.3, 0.4]\n",
        "        },\n",
        "        \"hidden_layer_size\": {\n",
        "            \"values\": [128, 256, 512]\n",
        "        }\n",
        "    }\n",
        "}\n",
        "wandb.reset_env()\n",
        "sweep_id = wandb.sweep(sweep_config, project=\"emotion\", entity=\"wandb\")"
      ],
      "execution_count": 0,
      "outputs": [
        {
          "output_type": "stream",
          "text": [
            "Create sweep with ID: gqaxae3s\n",
            "Sweep URL: https://app.wandb.ai/bloomberg-class/emotion-oct30/sweeps/gqaxae3s\n"
          ],
          "name": "stdout"
        }
      ]
    },
    {
      "cell_type": "code",
      "metadata": {
        "id": "g50PeIRq16RK",
        "colab_type": "code",
        "colab": {}
      },
      "source": [
        "# Run an agent with our training function\n",
        "wandb.agent(sweep_id, function=train)"
      ],
      "execution_count": 0,
      "outputs": []
    },
    {
      "cell_type": "markdown",
      "metadata": {
        "id": "bql72gmVpWK9",
        "colab_type": "text"
      },
      "source": [
        "# Consuming sweep results\n",
        "\n",
        "After the sweep has completed we can query for the best run and download it's weights."
      ]
    },
    {
      "cell_type": "code",
      "metadata": {
        "id": "YjUhar18fQWK",
        "colab_type": "code",
        "outputId": "0005a039-9605-4f5d-f92b-50a7834c88cf",
        "colab": {
          "base_uri": "https://localhost:8080/",
          "height": 51
        }
      },
      "source": [
        "api = wandb.Api()\n",
        "sweep = api.sweep(f\"wandb/emotion/{sweep_id}\")\n",
        "best_run = sweep.best_run() \n",
        "val_acc = best_run.summary.get(\"val_acc\", 0)\n",
        "print(f\"Best run {best_run.name} with {val_acc}% validation accuracy\")\n",
        "best_run.file(\"model-best.h5\").download(replace=True)\n",
        "print(\"Best model saved to model-best.h5\")"
      ],
      "execution_count": 0,
      "outputs": [
        {
          "output_type": "stream",
          "text": [
            "Best run pyggwu5i with 0.36152130365371704% validation accuracy\n",
            "Best model saved to model-best.h5\n"
          ],
          "name": "stdout"
        }
      ]
    }
  ]
}